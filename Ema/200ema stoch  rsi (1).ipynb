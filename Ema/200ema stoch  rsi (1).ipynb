{
 "cells": [
  {
   "cell_type": "code",
   "execution_count": 1,
   "metadata": {},
   "outputs": [],
   "source": [
    "import pandas as pd"
   ]
  },
  {
   "cell_type": "code",
   "execution_count": 2,
   "metadata": {},
   "outputs": [],
   "source": [
    "df = pd.read_csv('BTC_ETH_1week_1m.csv')"
   ]
  },
  {
   "cell_type": "code",
   "execution_count": null,
   "metadata": {},
   "outputs": [],
   "source": [
    "class TradingEnv:\n",
    "    def __init__(self, balance_amount, balance_unit, symbols):\n",
    "        self.balance_amount = balance_amount\n",
    "        self.balance_unit = balance_unit\n",
    "        self.buys = []\n",
    "        self.sells = []\n",
    "        self.trading_fee_multiplier = 0.99925      # VIP level 0, paying fees with BNB\n",
    "        self.symbols = symbols\n",
    "\n",
    "\n",
    "        self.rsi_bottoms = {}\n",
    "        self.rsi_reset_bottoms()\n",
    "\n",
    "        self.rsi_tops = {}\n",
    "        self.rsi_reset_tops()\n",
    "\n",
    "    \n",
    "    def buy(self, symbol, buy_price, time):\n",
    "        self.balance_amount = (self.balance_amount / buy_price) * self.trading_fee_multiplier\n",
    "        self.balance_unit = symbol\n",
    "        self.buys.append([symbol, time, buy_price])\n",
    "\n",
    "    def sell(self, sell_price, time):\n",
    "        self.balance_amount = (self.balance_amount * sell_price) * self.trading_fee_multiplier\n",
    "        self.sells.append([time, sell_price])\n",
    "        self.balance_unit = 'BUSD'\n",
    "\n",
    "    def reset_bottoms(self):\n",
    "        for symbol in self.symbols:\n",
    "            self.bottoms[symbol] = 'None'\n",
    "\n",
    "    def reset_tops(self):\n",
    "        for symbol in self.symbols:\n",
    "            self.tops[symbol] = 'None'\n"
   ]
  }
 ],
 "metadata": {
  "interpreter": {
   "hash": "7987c57931f2365761dc2a5f85e647decf73af6edff0c78918b92bfe7c5512ba"
  },
  "kernelspec": {
   "display_name": "Python 3.8.1 32-bit",
   "language": "python",
   "name": "python3"
  },
  "language_info": {
   "codemirror_mode": {
    "name": "ipython",
    "version": 3
   },
   "file_extension": ".py",
   "mimetype": "text/x-python",
   "name": "python",
   "nbconvert_exporter": "python",
   "pygments_lexer": "ipython3",
   "version": "3.8.1"
  },
  "orig_nbformat": 4
 },
 "nbformat": 4,
 "nbformat_minor": 2
}
