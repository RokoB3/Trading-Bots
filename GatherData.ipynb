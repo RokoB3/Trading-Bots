{
 "cells": [
  {
   "cell_type": "code",
   "execution_count": 3,
   "metadata": {},
   "outputs": [],
   "source": [
    "import pandas as pd\n",
    "import plotly.graph_objects as go\n",
    "from binance.client import Client\n",
    "from binance.enums import HistoricalKlinesType\n",
    "from binance_keys import api_key, api_secret\n",
    "from datetime import datetime"
   ]
  },
  {
   "cell_type": "code",
   "execution_count": 4,
   "metadata": {},
   "outputs": [],
   "source": [
    "client = Client(api_key, api_secret)"
   ]
  },
  {
   "cell_type": "code",
   "execution_count": 5,
   "metadata": {},
   "outputs": [
    {
     "name": "stdout",
     "output_type": "stream",
     "text": [
      "gathering ETH...\n"
     ]
    }
   ],
   "source": [
    "coins = ['ETH']\n",
    "merge = False\n",
    "for coin in coins:\n",
    "    print(f'gathering {coin}...')\n",
    "    start_str = 'Mar 1, 2021'\n",
    "    end_str = 'Mar28 25, 2022'\n",
    "    klines = client.get_historical_klines(f'{coin}BUSD', '5m', start_str, end_str, klines_type=HistoricalKlinesType.FUTURES)\n",
    "    cols = ['OpenTime', \n",
    "            f'{coin}-USD_Open',\n",
    "            f'{coin}-USD_High',\n",
    "            f'{coin}-USD_Low',\n",
    "            f'{coin}-USD_Close',\n",
    "            f'{coin}-USD_Volume',\n",
    "            'CloseTime',\n",
    "            f'{coin}-QuoteAssetVolume',\n",
    "            f'{coin}-NumberOfTrades',\n",
    "            f'{coin}-TBBAV',\n",
    "            f'{coin}-TBQAV',\n",
    "            f'{coin}-Ignore',]\n",
    "\n",
    "    coin_df = pd.DataFrame(klines, columns =cols)\n",
    "    if merge:\n",
    "        all_coins_df = pd.merge(coin_df, all_coins_df, how='inner', on=['OpenTime', 'CloseTime'])\n",
    "    else:\n",
    "        all_coins_df = coin_df\n",
    "        merge = True\n",
    "\n",
    "\n",
    "all_coins_df['OpenTime'] = [datetime.fromtimestamp(ts/1000) for ts in all_coins_df['OpenTime']]\n",
    "all_coins_df['CloseTime'] = [datetime.fromtimestamp(ts/1000) for ts in all_coins_df['CloseTime']]\n",
    "for col in all_coins_df.columns:\n",
    "    if not 'Time' in col:\n",
    "        all_coins_df[col] = all_coins_df[col].astype(float)\n",
    "\n",
    "\n",
    "# fig = go.Figure(data=[go.Candlestick(x=all_coins_df['OpenTime'],\n",
    "#                 open = all_coins_df['ETH-USD_Open'],\n",
    "#                 high=all_coins_df['ETH-USD_High'],\n",
    "#                 low=all_coins_df['ETH-USD_Low'],\n",
    "#                 close=all_coins_df['ETH-USD_Close'],\n",
    "                \n",
    "#                 )])\n",
    "# fig.update_layout(xaxis_rangeslider_visible=False)\n",
    "# fig.show()"
   ]
  },
  {
   "cell_type": "code",
   "execution_count": null,
   "metadata": {},
   "outputs": [],
   "source": [
    "all_coins_df.to_csv('BTC_ETH_1week_1m.csv', index=False)"
   ]
  }
 ],
 "metadata": {
  "interpreter": {
   "hash": "7987c57931f2365761dc2a5f85e647decf73af6edff0c78918b92bfe7c5512ba"
  },
  "kernelspec": {
   "display_name": "Python 3.8.1 32-bit",
   "language": "python",
   "name": "python3"
  },
  "language_info": {
   "codemirror_mode": {
    "name": "ipython",
    "version": 3
   },
   "file_extension": ".py",
   "mimetype": "text/x-python",
   "name": "python",
   "nbconvert_exporter": "python",
   "pygments_lexer": "ipython3",
   "version": "3.8.1"
  },
  "orig_nbformat": 4
 },
 "nbformat": 4,
 "nbformat_minor": 2
}
